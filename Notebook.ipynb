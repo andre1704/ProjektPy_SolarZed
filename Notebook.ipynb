{
 "cells": [
  {
   "cell_type": "code",
   "execution_count": null,
   "metadata": {},
   "outputs": [],
   "source": []
  },
  {
   "cell_type": "markdown",
   "metadata": {},
   "source": [
    "\n",
    "import pandas as pd\n",
    "from datetime import datetime\n",
    "from sklearn.linear_model import LinearRegression\n",
    "from sklearn.model_selection import train_test_split\n",
    "from sklearn.ensemble import RandomForestRegressor\n",
    "from sklearn.metrics import mean_squared_error\n",
    "\n",
    "\n",
    "train = pd.read_csv('Data/train.csv',sep=',')\n",
    "test = pd.read_csv('Data/test.csv', sep=',')\n"
   ]
  },
  {
   "cell_type": "markdown",
   "metadata": {},
   "source": [
    "train.isnull().sum()\n",
    "test.isnull().sum()"
   ]
  },
  {
   "cell_type": "code",
   "execution_count": 61,
   "metadata": {},
   "outputs": [],
   "source": [
    "def splitDate(x, date_part):\n",
    "    if(date_part == \"year\"):\n",
    "        y = datetime.strptime(x, '%m/%d/%Y %H:%M').year\n",
    "    elif(date_part == \"month\"):\n",
    "        y = datetime.strptime(x, '%m/%d/%Y %H:%M').month\n",
    "    elif(date_part == \"day\"):\n",
    "        y = datetime.strptime(x, '%m/%d/%Y %H:%M').day\n",
    "    elif(date_part == \"hour\"):\n",
    "        y = datetime.strptime(x, '%m/%d/%Y %H:%M').hour\n",
    "    return int(y)\n",
    "\n",
    "train['year']= train['data'].apply(lambda x: splitDate(x, \"year\"))\n",
    "train['month']= train['data'].apply(lambda x: splitDate(x, \"month\"))\n",
    "train['day_']= train['data'].apply(lambda x: splitDate(x, \"day\"))\n",
    "train['hour']= train['data'].apply(lambda x: splitDate(x, \"hour\"))\n",
    "\n",
    "test['year']= test['data'].apply(lambda x: splitDate(x, \"year\"))\n",
    "test['month']= test['data'].apply(lambda x: splitDate(x, \"month\"))\n",
    "test['day_']= test['data'].apply(lambda x: splitDate(x, \"day\"))\n",
    "test['hour']= test['data'].apply(lambda x: splitDate(x, \"hour\"))"
   ]
  },
  {
   "cell_type": "code",
   "execution_count": 62,
   "metadata": {},
   "outputs": [],
   "source": [
    "X_train = train\n",
    "X_train = X_train.drop(\"kwh\",1)\n",
    "X_train = X_train.drop(\"data\",1)\n",
    "y_train = train.loc[:,'kwh']"
   ]
  },
  {
   "cell_type": "code",
   "execution_count": 63,
   "metadata": {},
   "outputs": [],
   "source": [
    "X_test = test.drop(\"data\",1)"
   ]
  },
  {
   "cell_type": "code",
   "execution_count": 64,
   "metadata": {},
   "outputs": [],
   "source": [
    "X1_train, X1_test, y1_train, y1_test = train_test_split(X_train, y_train, test_size=0.2, random_state=0)  "
   ]
  },
  {
   "cell_type": "code",
   "execution_count": 65,
   "metadata": {},
   "outputs": [],
   "source": []
  },
  {
   "cell_type": "markdown",
   "metadata": {},
   "source": [
    "#reg = LinearRegression(copy_X=True, fit_intercept=True, normalize=True).fit(X_train, y_train)\n",
    "#reg.score(X_train, y_train)\n",
    "\n",
    "def zeroAssing(x):\n",
    "    if(x>=0):\n",
    "        return x\n",
    "    else:\n",
    "        return 0\n",
    "\n",
    "array_coef_squared_error = []\n",
    "\n",
    "reg = LinearRegression(copy_X=True, fit_intercept=True, normalize=True).fit(X1_train, y1_train)\n",
    "y_pred = reg0.predict(X1_test)\n",
    "pred_d = {'Id': X1_test['id'] , 'Predicted': y_pred}\n",
    "predicted_data = pd.DataFrame(data=pred_d)\n",
    "predicted_data['Predicted'] = predicted_data['Predicted'].apply(lambda x: zeroAssing(x))  \n",
    "array_coef_squared_error.append({\"linear regression\",reg.score(X1_test, y1_test), mean_squared_error(y1_test,predicted_data['Predicted'])})\n",
    "\n",
    "\n",
    "\n",
    "tab_estimators = [10 , 50, 100, 200]\n",
    "for i in tab_estimators:\n",
    "    reg = RandomForestRegressor(max_depth=2,n_estimators=i).fit(X1_train, y1_train)\n",
    "    print(reg.score(X1_train, y1_train))\n",
    "    y_pred = reg.predict(X1_test)\n",
    "    print(mean_squared_error(y1_test,y_pred))\n",
    "    array_coef_squared_error.append({\"random forest\"+str(i),reg.score(X1_train, y1_train), mean_squared_error(y1_test,y_pred)})\n",
    "\n",
    "pred_d = {'Id': X1_test['id'] , 'Predicted': y_pred}\n",
    "predicted_data = pd.DataFrame(data=pred_d)\n"
   ]
  },
  {
   "cell_type": "code",
   "execution_count": 72,
   "metadata": {},
   "outputs": [],
   "source": [
    "##\n",
    "y_pred = reg.predict(X_test)\n",
    "pred_d = {'Id': X_test['id'] , 'Predicted': y_pred}\n",
    "predicted_data = pd.DataFrame(data=pred_d)\n",
    "    "
   ]
  },
  {
   "cell_type": "code",
   "execution_count": 75,
   "metadata": {},
   "outputs": [
    {
     "name": "stdout",
     "output_type": "stream",
     "text": [
      "[{0.8108643962687644, 'linear regression', 0.00805511545416806}, {'random forest10', 0.7565387730918853, 0.010805898043822884}, {'random forest50', 0.7563686139737543, 0.010812090729478663}, {0.7561937638890232, 'random forest100', 0.01081690325693965}, {0.7563003185452174, 'random forest200', 0.010813739380334794}]\n"
     ]
    }
   ],
   "source": [
    "print(array_coef_squared_error)"
   ]
  },
  {
   "cell_type": "code",
   "execution_count": 73,
   "metadata": {},
   "outputs": [],
   "source": [
    "predicted_data.to_csv('Data/submission.csv',sep=',' ,index = False)"
   ]
  },
  {
   "cell_type": "code",
   "execution_count": 74,
   "metadata": {},
   "outputs": [],
   "source": [
    "#predicted_data['Predicted'] = predicted_data['Predicted'].apply(lambda x: x if x>= 0 else print(x))\n",
    "#y_test.tail(10)\n",
    "#predicted_data.loc[predicted_data['Id'] == 75940 ]\n",
    "\n"
   ]
  }
 ],
 "metadata": {
  "kernelspec": {
   "display_name": "Python 3",
   "language": "python",
   "name": "python3"
  },
  "language_info": {
   "codemirror_mode": {
    "name": "ipython",
    "version": 3
   },
   "file_extension": ".py",
   "mimetype": "text/x-python",
   "name": "python",
   "nbconvert_exporter": "python",
   "pygments_lexer": "ipython3",
   "version": "3.7.1"
  }
 },
 "nbformat": 4,
 "nbformat_minor": 1
}
