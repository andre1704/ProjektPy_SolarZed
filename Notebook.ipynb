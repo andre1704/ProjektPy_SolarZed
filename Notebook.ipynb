{
 "cells": [
  {
   "cell_type": "code",
   "execution_count": 25,
   "metadata": {},
   "outputs": [],
   "source": [
    "import pandas as pd\n",
    "from datetime import datetime\n",
    "from sklearn.linear_model import LinearRegression\n",
    "from sklearn.metrics import mean_squared_error\n",
    "\n",
    "train = pd.read_csv('Data/train.csv',sep=',')\n",
    "test = pd.read_csv('Data/test.csv', sep=',')"
   ]
  },
  {
   "cell_type": "code",
   "execution_count": 26,
   "metadata": {},
   "outputs": [],
   "source": [
    "\n",
    "#df.isnull().sum()"
   ]
  },
  {
   "cell_type": "code",
   "execution_count": 27,
   "metadata": {},
   "outputs": [],
   "source": [
    "def splitDate(x, date_part):\n",
    "    if(date_part == \"year\"):\n",
    "        y = datetime.strptime(x, '%m/%d/%Y %H:%M').year\n",
    "    elif(date_part == \"month\"):\n",
    "        y = datetime.strptime(x, '%m/%d/%Y %H:%M').month\n",
    "    elif(date_part == \"day\"):\n",
    "        y = datetime.strptime(x, '%m/%d/%Y %H:%M').day\n",
    "    elif(date_part == \"hour\"):\n",
    "        y = datetime.strptime(x, '%m/%d/%Y %H:%M').hour\n",
    "    return int(y)\n",
    "\n",
    "#train['year']= train['data'].apply(lambda x: splitDate(x, \"year\"))\n",
    "#train['month']= train['data'].apply(lambda x: splitDate(x, \"month\"))\n",
    "#train['day_']= train['data'].apply(lambda x: splitDate(x, \"day\"))\n",
    "#train['hour']= train['data'].apply(lambda x: splitDate(x, \"hour\"))"
   ]
  },
  {
   "cell_type": "code",
   "execution_count": 28,
   "metadata": {},
   "outputs": [],
   "source": [
    "X_train = train.drop(\"kwh\",1)\n",
    "X_train = train.drop(\"data\",1)\n"
   ]
  },
  {
   "cell_type": "code",
   "execution_count": 29,
   "metadata": {},
   "outputs": [],
   "source": [
    "y_train = train.loc[:,'kwh']\n"
   ]
  },
  {
   "cell_type": "code",
   "execution_count": 30,
   "metadata": {},
   "outputs": [],
   "source": [
    "X_test = train.drop(\"kwh\",1)\n",
    "X_test = train.drop(\"data\",1)"
   ]
  },
  {
   "cell_type": "code",
   "execution_count": 31,
   "metadata": {},
   "outputs": [],
   "source": [
    "y_test = train.loc[:,'kwh']"
   ]
  },
  {
   "cell_type": "code",
   "execution_count": 32,
   "metadata": {},
   "outputs": [
    {
     "data": {
      "text/plain": [
       "1.0"
      ]
     },
     "execution_count": 32,
     "metadata": {},
     "output_type": "execute_result"
    }
   ],
   "source": [
    "reg = LinearRegression().fit(X_train, y_train)\n",
    "reg.score(X_train, y_train)"
   ]
  },
  {
   "cell_type": "code",
   "execution_count": 33,
   "metadata": {},
   "outputs": [],
   "source": [
    "y_pred = reg.predict(X_test)"
   ]
  },
  {
   "cell_type": "code",
   "execution_count": 36,
   "metadata": {},
   "outputs": [
    {
     "data": {
      "text/plain": [
       "4.964110730917322e-25"
      ]
     },
     "execution_count": 36,
     "metadata": {},
     "output_type": "execute_result"
    }
   ],
   "source": [
    "pred_d = {'Id': X_test['id'] , 'Predicted': y_pred}\n",
    "predicted_data = pd.DataFrame(data=pred_d)\n",
    "\n",
    "mean_squared_error(y_test, y_pred)"
   ]
  },
  {
   "cell_type": "code",
   "execution_count": 41,
   "metadata": {},
   "outputs": [
    {
     "data": {
      "text/html": [
       "<div>\n",
       "<style scoped>\n",
       "    .dataframe tbody tr th:only-of-type {\n",
       "        vertical-align: middle;\n",
       "    }\n",
       "\n",
       "    .dataframe tbody tr th {\n",
       "        vertical-align: top;\n",
       "    }\n",
       "\n",
       "    .dataframe thead th {\n",
       "        text-align: right;\n",
       "    }\n",
       "</style>\n",
       "<table border=\"1\" class=\"dataframe\">\n",
       "  <thead>\n",
       "    <tr style=\"text-align: right;\">\n",
       "      <th></th>\n",
       "      <th>Id</th>\n",
       "      <th>Predicted</th>\n",
       "    </tr>\n",
       "  </thead>\n",
       "  <tbody>\n",
       "    <tr>\n",
       "      <th>0</th>\n",
       "      <td>97595</td>\n",
       "      <td>-3.593786e-13</td>\n",
       "    </tr>\n",
       "    <tr>\n",
       "      <th>1</th>\n",
       "      <td>97606</td>\n",
       "      <td>-5.281996e-13</td>\n",
       "    </tr>\n",
       "    <tr>\n",
       "      <th>2</th>\n",
       "      <td>97637</td>\n",
       "      <td>-6.524660e-13</td>\n",
       "    </tr>\n",
       "    <tr>\n",
       "      <th>3</th>\n",
       "      <td>97646</td>\n",
       "      <td>-3.823731e-13</td>\n",
       "    </tr>\n",
       "    <tr>\n",
       "      <th>4</th>\n",
       "      <td>97772</td>\n",
       "      <td>-4.440285e-13</td>\n",
       "    </tr>\n",
       "    <tr>\n",
       "      <th>5</th>\n",
       "      <td>104492</td>\n",
       "      <td>-4.124442e-13</td>\n",
       "    </tr>\n",
       "    <tr>\n",
       "      <th>6</th>\n",
       "      <td>104528</td>\n",
       "      <td>-4.961954e-13</td>\n",
       "    </tr>\n",
       "    <tr>\n",
       "      <th>7</th>\n",
       "      <td>104601</td>\n",
       "      <td>-5.033041e-13</td>\n",
       "    </tr>\n",
       "    <tr>\n",
       "      <th>8</th>\n",
       "      <td>104637</td>\n",
       "      <td>-2.685921e-13</td>\n",
       "    </tr>\n",
       "    <tr>\n",
       "      <th>9</th>\n",
       "      <td>169235</td>\n",
       "      <td>5.926158e-14</td>\n",
       "    </tr>\n",
       "  </tbody>\n",
       "</table>\n",
       "</div>"
      ],
      "text/plain": [
       "       Id     Predicted\n",
       "0   97595 -3.593786e-13\n",
       "1   97606 -5.281996e-13\n",
       "2   97637 -6.524660e-13\n",
       "3   97646 -3.823731e-13\n",
       "4   97772 -4.440285e-13\n",
       "5  104492 -4.124442e-13\n",
       "6  104528 -4.961954e-13\n",
       "7  104601 -5.033041e-13\n",
       "8  104637 -2.685921e-13\n",
       "9  169235  5.926158e-14"
      ]
     },
     "execution_count": 41,
     "metadata": {},
     "output_type": "execute_result"
    }
   ],
   "source": [
    "#y_test.tail(10)\n",
    "predicted_data.head(10)"
   ]
  },
  {
   "cell_type": "code",
   "execution_count": 45,
   "metadata": {},
   "outputs": [],
   "source": [
    "predicted_data.to_csv('Data/submission.csv',sep=',' ,index = False)"
   ]
  }
 ],
 "metadata": {
  "kernelspec": {
   "display_name": "Python 3",
   "language": "python",
   "name": "python3"
  },
  "language_info": {
   "codemirror_mode": {
    "name": "ipython",
    "version": 3
   },
   "file_extension": ".py",
   "mimetype": "text/x-python",
   "name": "python",
   "nbconvert_exporter": "python",
   "pygments_lexer": "ipython3",
   "version": "3.7.1"
  }
 },
 "nbformat": 4,
 "nbformat_minor": 1
}
