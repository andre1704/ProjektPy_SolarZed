{
 "cells": [
  {
   "cell_type": "code",
   "execution_count": 4,
   "metadata": {},
   "outputs": [],
   "source": [
    "import pandas as pd\n",
    "import sklearn.model_selection as skms\n",
    "from sklearn.metrics import classification_report\n",
    "from sklearn.svm import SVC\n",
    "\n",
    "train = pd.read_csv('Data/train.csv',sep=',')\n",
    "test = pd.read_csv('Data/test.csv', sep=',')\n"
   ]
  },
  {
   "cell_type": "code",
   "execution_count": 2,
   "metadata": {},
   "outputs": [],
   "source": [
    "#df.isnull().sum()"
   ]
  },
  {
   "cell_type": "code",
   "execution_count": 5,
   "metadata": {},
   "outputs": [
    {
     "data": {
      "text/html": [
       "<div>\n",
       "<style scoped>\n",
       "    .dataframe tbody tr th:only-of-type {\n",
       "        vertical-align: middle;\n",
       "    }\n",
       "\n",
       "    .dataframe tbody tr th {\n",
       "        vertical-align: top;\n",
       "    }\n",
       "\n",
       "    .dataframe thead th {\n",
       "        text-align: right;\n",
       "    }\n",
       "</style>\n",
       "<table border=\"1\" class=\"dataframe\">\n",
       "  <thead>\n",
       "    <tr style=\"text-align: right;\">\n",
       "      <th></th>\n",
       "      <th>id</th>\n",
       "      <th>idsito</th>\n",
       "      <th>idmodel</th>\n",
       "      <th>idbrand</th>\n",
       "      <th>lat</th>\n",
       "      <th>lon</th>\n",
       "      <th>ageinmonths</th>\n",
       "      <th>anno</th>\n",
       "      <th>day</th>\n",
       "      <th>ora</th>\n",
       "      <th>...</th>\n",
       "      <th>pcnm9</th>\n",
       "      <th>pcnm10</th>\n",
       "      <th>pcnm11</th>\n",
       "      <th>pcnm12</th>\n",
       "      <th>pcnm13</th>\n",
       "      <th>pcnm14</th>\n",
       "      <th>pcnm15</th>\n",
       "      <th>irr_pvgis_mod</th>\n",
       "      <th>irri_pvgis_mod</th>\n",
       "      <th>kwh</th>\n",
       "    </tr>\n",
       "  </thead>\n",
       "  <tbody>\n",
       "    <tr>\n",
       "      <th>181598</th>\n",
       "      <td>75702</td>\n",
       "      <td>0.15</td>\n",
       "      <td>0.167</td>\n",
       "      <td>0.167</td>\n",
       "      <td>0.438</td>\n",
       "      <td>0.63</td>\n",
       "      <td>0.0</td>\n",
       "      <td>2013</td>\n",
       "      <td>0.477</td>\n",
       "      <td>0.556</td>\n",
       "      <td>...</td>\n",
       "      <td>0.755</td>\n",
       "      <td>0.812</td>\n",
       "      <td>0.424</td>\n",
       "      <td>1.0</td>\n",
       "      <td>0.137</td>\n",
       "      <td>0.405</td>\n",
       "      <td>0.613</td>\n",
       "      <td>0.648</td>\n",
       "      <td>0.158</td>\n",
       "      <td>0.511</td>\n",
       "    </tr>\n",
       "    <tr>\n",
       "      <th>181599</th>\n",
       "      <td>75719</td>\n",
       "      <td>0.15</td>\n",
       "      <td>0.167</td>\n",
       "      <td>0.167</td>\n",
       "      <td>0.438</td>\n",
       "      <td>0.63</td>\n",
       "      <td>0.0</td>\n",
       "      <td>2013</td>\n",
       "      <td>0.477</td>\n",
       "      <td>0.556</td>\n",
       "      <td>...</td>\n",
       "      <td>0.755</td>\n",
       "      <td>0.812</td>\n",
       "      <td>0.424</td>\n",
       "      <td>1.0</td>\n",
       "      <td>0.137</td>\n",
       "      <td>0.405</td>\n",
       "      <td>0.613</td>\n",
       "      <td>0.648</td>\n",
       "      <td>0.158</td>\n",
       "      <td>0.511</td>\n",
       "    </tr>\n",
       "    <tr>\n",
       "      <th>181600</th>\n",
       "      <td>75736</td>\n",
       "      <td>0.15</td>\n",
       "      <td>0.167</td>\n",
       "      <td>0.167</td>\n",
       "      <td>0.438</td>\n",
       "      <td>0.63</td>\n",
       "      <td>0.0</td>\n",
       "      <td>2013</td>\n",
       "      <td>0.477</td>\n",
       "      <td>0.556</td>\n",
       "      <td>...</td>\n",
       "      <td>0.755</td>\n",
       "      <td>0.812</td>\n",
       "      <td>0.424</td>\n",
       "      <td>1.0</td>\n",
       "      <td>0.137</td>\n",
       "      <td>0.405</td>\n",
       "      <td>0.613</td>\n",
       "      <td>0.648</td>\n",
       "      <td>0.158</td>\n",
       "      <td>0.511</td>\n",
       "    </tr>\n",
       "    <tr>\n",
       "      <th>181601</th>\n",
       "      <td>75753</td>\n",
       "      <td>0.15</td>\n",
       "      <td>0.167</td>\n",
       "      <td>0.167</td>\n",
       "      <td>0.438</td>\n",
       "      <td>0.63</td>\n",
       "      <td>0.0</td>\n",
       "      <td>2013</td>\n",
       "      <td>0.477</td>\n",
       "      <td>0.556</td>\n",
       "      <td>...</td>\n",
       "      <td>0.755</td>\n",
       "      <td>0.812</td>\n",
       "      <td>0.424</td>\n",
       "      <td>1.0</td>\n",
       "      <td>0.137</td>\n",
       "      <td>0.405</td>\n",
       "      <td>0.613</td>\n",
       "      <td>0.648</td>\n",
       "      <td>0.158</td>\n",
       "      <td>0.511</td>\n",
       "    </tr>\n",
       "    <tr>\n",
       "      <th>181602</th>\n",
       "      <td>75788</td>\n",
       "      <td>0.15</td>\n",
       "      <td>0.167</td>\n",
       "      <td>0.167</td>\n",
       "      <td>0.438</td>\n",
       "      <td>0.63</td>\n",
       "      <td>0.0</td>\n",
       "      <td>2013</td>\n",
       "      <td>0.477</td>\n",
       "      <td>0.556</td>\n",
       "      <td>...</td>\n",
       "      <td>0.755</td>\n",
       "      <td>0.812</td>\n",
       "      <td>0.424</td>\n",
       "      <td>1.0</td>\n",
       "      <td>0.137</td>\n",
       "      <td>0.405</td>\n",
       "      <td>0.613</td>\n",
       "      <td>0.648</td>\n",
       "      <td>0.158</td>\n",
       "      <td>0.511</td>\n",
       "    </tr>\n",
       "  </tbody>\n",
       "</table>\n",
       "<p>5 rows × 51 columns</p>\n",
       "</div>"
      ],
      "text/plain": [
       "           id  idsito  idmodel  idbrand    lat   lon  ageinmonths  anno  \\\n",
       "181598  75702    0.15    0.167    0.167  0.438  0.63          0.0  2013   \n",
       "181599  75719    0.15    0.167    0.167  0.438  0.63          0.0  2013   \n",
       "181600  75736    0.15    0.167    0.167  0.438  0.63          0.0  2013   \n",
       "181601  75753    0.15    0.167    0.167  0.438  0.63          0.0  2013   \n",
       "181602  75788    0.15    0.167    0.167  0.438  0.63          0.0  2013   \n",
       "\n",
       "          day    ora  ...    pcnm9  pcnm10  pcnm11  pcnm12  pcnm13  pcnm14  \\\n",
       "181598  0.477  0.556  ...    0.755   0.812   0.424     1.0   0.137   0.405   \n",
       "181599  0.477  0.556  ...    0.755   0.812   0.424     1.0   0.137   0.405   \n",
       "181600  0.477  0.556  ...    0.755   0.812   0.424     1.0   0.137   0.405   \n",
       "181601  0.477  0.556  ...    0.755   0.812   0.424     1.0   0.137   0.405   \n",
       "181602  0.477  0.556  ...    0.755   0.812   0.424     1.0   0.137   0.405   \n",
       "\n",
       "        pcnm15  irr_pvgis_mod  irri_pvgis_mod    kwh  \n",
       "181598   0.613          0.648           0.158  0.511  \n",
       "181599   0.613          0.648           0.158  0.511  \n",
       "181600   0.613          0.648           0.158  0.511  \n",
       "181601   0.613          0.648           0.158  0.511  \n",
       "181602   0.613          0.648           0.158  0.511  \n",
       "\n",
       "[5 rows x 51 columns]"
      ]
     },
     "execution_count": 5,
     "metadata": {},
     "output_type": "execute_result"
    }
   ],
   "source": [
    "train.tail()"
   ]
  },
  {
   "cell_type": "code",
   "execution_count": 18,
   "metadata": {},
   "outputs": [
    {
     "data": {
      "text/plain": [
       "181598    8/16/2013 12:00\n",
       "181599    8/18/2013 12:00\n",
       "181600    8/20/2013 12:00\n",
       "181601    8/22/2013 12:00\n",
       "181602    8/27/2013 12:00\n",
       "Name: data, dtype: object"
      ]
     },
     "execution_count": 18,
     "metadata": {},
     "output_type": "execute_result"
    }
   ],
   "source": [
    "#train = train.drop(\"id\",1)\n",
    "#train = train.drop(\"data\",1)\n",
    "#test = test.drop(\"id\",1)\n",
    "#test = test.drop(\"data\",1)\n",
    "from datetime import datetime\n",
    "#date_object = datetime.strptime(czas, '%m/%d/%Y %H:%M')\n"
   ]
  },
  {
   "cell_type": "code",
   "execution_count": 21,
   "metadata": {},
   "outputs": [
    {
     "data": {
      "text/plain": [
       "id                        int64\n",
       "idsito                  float64\n",
       "idmodel                 float64\n",
       "idbrand                 float64\n",
       "lat                     float64\n",
       "lon                     float64\n",
       "ageinmonths             float64\n",
       "anno                      int64\n",
       "day                     float64\n",
       "ora                     float64\n",
       "data                     object\n",
       "temperatura_ambiente    float64\n",
       "irradiamento            float64\n",
       "pressure                float64\n",
       "windspeed               float64\n",
       "humidity                float64\n",
       "icon                    float64\n",
       "dewpoint                float64\n",
       "windbearing             float64\n",
       "cloudcover              float64\n",
       "tempi                   float64\n",
       "irri                    float64\n",
       "pressurei               float64\n",
       "windspeedi              float64\n",
       "humidityi               float64\n",
       "dewpointi               float64\n",
       "windbearingi            float64\n",
       "cloudcoveri             float64\n",
       "dist                    float64\n",
       "altitude                float64\n",
       "azimuth                 float64\n",
       "altitudei               float64\n",
       "azimuthi                float64\n",
       "pcnm1                   float64\n",
       "pcnm2                   float64\n",
       "pcnm3                   float64\n",
       "pcnm4                   float64\n",
       "pcnm5                   float64\n",
       "pcnm6                   float64\n",
       "pcnm7                   float64\n",
       "pcnm8                   float64\n",
       "pcnm9                   float64\n",
       "pcnm10                  float64\n",
       "pcnm11                  float64\n",
       "pcnm12                  float64\n",
       "pcnm13                  float64\n",
       "pcnm14                  float64\n",
       "pcnm15                  float64\n",
       "irr_pvgis_mod           float64\n",
       "irri_pvgis_mod          float64\n",
       "kwh                     float64\n",
       "year                     object\n",
       "dtype: object"
      ]
     },
     "execution_count": 21,
     "metadata": {},
     "output_type": "execute_result"
    }
   ],
   "source": [
    "from datetime import datetime\n",
    "\n",
    "def splitDate(x):\n",
    "    return datetime.strptime(x, '%m/%d/%Y %H:%M').year\n",
    "\n",
    "train['year']= train['data']\n",
    "\n",
    "train['data'].apply(splitDate)\n",
    "train.dtypes"
   ]
  },
  {
   "cell_type": "code",
   "execution_count": null,
   "metadata": {},
   "outputs": [],
   "source": [
    "X_train = train.drop(\"kwh\",1)\n",
    "X_train.head()"
   ]
  },
  {
   "cell_type": "code",
   "execution_count": null,
   "metadata": {},
   "outputs": [],
   "source": [
    "y_train = train.loc[:,'kwh']\n"
   ]
  },
  {
   "cell_type": "code",
   "execution_count": null,
   "metadata": {},
   "outputs": [],
   "source": [
    "X_test = train.drop(\"kwh\",1)\n"
   ]
  },
  {
   "cell_type": "code",
   "execution_count": null,
   "metadata": {},
   "outputs": [],
   "source": [
    "y_test = train.loc[:,'kwh']\n",
    "\n"
   ]
  },
  {
   "cell_type": "code",
   "execution_count": null,
   "metadata": {},
   "outputs": [],
   "source": [
    "from sklearn.linear_model import LinearRegression\n",
    "reg = LinearRegression().fit(X_train, y_train)\n",
    "reg.score(X_train, y_train)"
   ]
  },
  {
   "cell_type": "code",
   "execution_count": null,
   "metadata": {},
   "outputs": [],
   "source": [
    "from sklearn.metrics import mean_squared_error\n",
    "y_pred = np.array(reg.predict(X_test))"
   ]
  },
  {
   "cell_type": "code",
   "execution_count": null,
   "metadata": {},
   "outputs": [],
   "source": [
    "mean_squared_error(y_test, y_pred)"
   ]
  },
  {
   "cell_type": "code",
   "execution_count": null,
   "metadata": {},
   "outputs": [],
   "source": [
    "y_pred[-1]"
   ]
  },
  {
   "cell_type": "code",
   "execution_count": null,
   "metadata": {},
   "outputs": [],
   "source": [
    "y_test.tail(1)"
   ]
  },
  {
   "cell_type": "code",
   "execution_count": null,
   "metadata": {},
   "outputs": [],
   "source": []
  },
  {
   "cell_type": "code",
   "execution_count": null,
   "metadata": {},
   "outputs": [],
   "source": []
  },
  {
   "cell_type": "code",
   "execution_count": null,
   "metadata": {},
   "outputs": [],
   "source": []
  },
  {
   "cell_type": "code",
   "execution_count": null,
   "metadata": {},
   "outputs": [],
   "source": []
  },
  {
   "cell_type": "code",
   "execution_count": null,
   "metadata": {},
   "outputs": [],
   "source": []
  },
  {
   "cell_type": "code",
   "execution_count": null,
   "metadata": {},
   "outputs": [],
   "source": []
  },
  {
   "cell_type": "code",
   "execution_count": null,
   "metadata": {},
   "outputs": [],
   "source": []
  },
  {
   "cell_type": "code",
   "execution_count": null,
   "metadata": {},
   "outputs": [],
   "source": []
  },
  {
   "cell_type": "code",
   "execution_count": null,
   "metadata": {},
   "outputs": [],
   "source": []
  },
  {
   "cell_type": "code",
   "execution_count": null,
   "metadata": {},
   "outputs": [],
   "source": []
  },
  {
   "cell_type": "code",
   "execution_count": null,
   "metadata": {},
   "outputs": [],
   "source": []
  },
  {
   "cell_type": "code",
   "execution_count": null,
   "metadata": {},
   "outputs": [],
   "source": []
  }
 ],
 "metadata": {
  "kernelspec": {
   "display_name": "Python 3",
   "language": "python",
   "name": "python3"
  },
  "language_info": {
   "codemirror_mode": {
    "name": "ipython",
    "version": 3
   },
   "file_extension": ".py",
   "mimetype": "text/x-python",
   "name": "python",
   "nbconvert_exporter": "python",
   "pygments_lexer": "ipython3",
   "version": "3.7.1"
  }
 },
 "nbformat": 4,
 "nbformat_minor": 1
}
